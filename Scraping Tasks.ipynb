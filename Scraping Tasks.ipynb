{
 "cells": [
  {
   "cell_type": "markdown",
   "id": "fec8ec35",
   "metadata": {},
   "source": [
    "# AI Tasks for Web Scraping "
   ]
  },
  {
   "cell_type": "code",
   "execution_count": 26,
   "id": "a0732da0",
   "metadata": {},
   "outputs": [],
   "source": [
    "import requests\n",
    "import lxml\n",
    "from bs4 import BeautifulSoup\n",
    "import csv\n",
    "import pytube\n",
    "import pandas as pd"
   ]
  },
  {
   "cell_type": "markdown",
   "id": "e854e0f0",
   "metadata": {},
   "source": [
    "# Task 1 Doownlaod a Youtube vid using pytube"
   ]
  },
  {
   "cell_type": "code",
   "execution_count": 8,
   "id": "0fdf2a0b",
   "metadata": {},
   "outputs": [
    {
     "name": "stdout",
     "output_type": "stream",
     "text": [
      "Enter the link you want to downlaodhttps://www.youtube.com/watch?v=TPh0a7lLdpk\n",
      "the vid is downloading..\n",
      "Download is completed successfully\n"
     ]
    }
   ],
   "source": [
    "def download(link):\n",
    "    youtube_object = pytube.YouTube(link)\n",
    "    youtube_object = youtube_object.streams.get_highest_resolution()\n",
    "    try:\n",
    "        print(\"the vid is downloading..\")\n",
    "        # naming the vid \n",
    "        youtube_object.download(filename=\"quran1\")\n",
    "    except Exception:\n",
    "        print(\"Download Failed\")\n",
    "    print(\"Download is completed successfully\")\n",
    "\n",
    "\n",
    "# use this link as an example\n",
    "# https://www.youtube.com/watch?v=TPh0a7lLdpk\n",
    "link = input(\"Enter the link you want to downlaod\")\n",
    "download(link)"
   ]
  },
  {
   "cell_type": "markdown",
   "id": "98725a73",
   "metadata": {},
   "source": [
    "# Task 2 Scrape and downlaod an image"
   ]
  },
  {
   "cell_type": "code",
   "execution_count": 12,
   "id": "b79d4f39",
   "metadata": {},
   "outputs": [
    {
     "name": "stdout",
     "output_type": "stream",
     "text": [
      "Done Downloading\n"
     ]
    }
   ],
   "source": [
    "# TASK2\n",
    "# how to scrape images and download it\n",
    "img_data = requests.get('https://media.newyorker.com/photos/59095bb86552fa0be682d9d0/master/w_1600,c_limit/Monkey-Selfie.jpg').content\n",
    "with open(f'img-1.jpg', 'wb') as handler:\n",
    "    handler.write(img_data)\n",
    "print(\"Done Downloading\")"
   ]
  },
  {
   "cell_type": "markdown",
   "id": "3d25ca01",
   "metadata": {},
   "source": [
    "# Task 3 scrape articles and save them into csv file"
   ]
  },
  {
   "cell_type": "code",
   "execution_count": 30,
   "id": "18b2f26d",
   "metadata": {},
   "outputs": [
    {
     "name": "stdout",
     "output_type": "stream",
     "text": [
      "scraping from this website..\n",
      "article number 1 has been scraped\n",
      "article number 2 has been scraped\n",
      "article number 3 has been scraped\n",
      "article number 4 has been scraped\n",
      "article number 5 has been scraped\n"
     ]
    }
   ],
   "source": [
    "print(\"scraping from this website..\")\n",
    "res = requests.get('https://www.nature.com/nature/articles?type=article')\n",
    "soup = BeautifulSoup(res.content, 'lxml')\n",
    "divs_article = soup.select(selector='li.app-article-list-row__item article')[:5]\n",
    "\n",
    "\n",
    "\n",
    "with open('articles.csv', 'w', encoding=\"utf-8\") as file:\n",
    "    writer = csv.writer(file)\n",
    "    field = [\"title\", \"link\", \"image\", \"summary\", \"authors\", \"date\", \"access\"]\n",
    "    writer.writerow(field)\n",
    "    for div in divs_article:\n",
    "        # image\n",
    "        image_div = div.select_one('img')\n",
    "        try:\n",
    "            image = image_div.get('src')\n",
    "        except Exception:\n",
    "            image = None\n",
    "\n",
    "        # body\n",
    "        div_body = div.select_one('div.c-card__body')\n",
    "        # from the body we have title, link, description, authors\n",
    "        title_div = div_body.select_one(selector='h3.c-card__title a')\n",
    "        link = \"https://www.nature.com/\" + title_div.get('href')\n",
    "        title = title_div.text\n",
    "        \n",
    "        try:\n",
    "            des = div_body.select_one(selector=\"div.c-card__summary p\").text\n",
    "        except Exception:\n",
    "            des = None\n",
    "        authors = div_body.select_one(selector='ul.c-author-list').text.strip()\n",
    "\n",
    "        date_div = div.select_one('div.c-card__section')\n",
    "        date = date_div.select_one(\"time\").text\n",
    "        access = date_div.select_one(selector=\"span.u-color-open-access\").text if date_div.select_one(\n",
    "            selector=\"span.u-color-open-access\") else \"Close Access\"\n",
    "        writer.writerow([title, link, image, des, authors, date, access])\n",
    "        print(f\"article number {divs_article.index(div)+1} has been scraped\")\n"
   ]
  },
  {
   "cell_type": "markdown",
   "id": "4bc57319",
   "metadata": {},
   "source": [
    "### viewing the csv file as a data frame in pandas"
   ]
  },
  {
   "cell_type": "code",
   "execution_count": 33,
   "id": "3ae2bbb4",
   "metadata": {},
   "outputs": [],
   "source": [
    "df = pd.read_csv(\"./articles.csv\")"
   ]
  },
  {
   "cell_type": "code",
   "execution_count": 34,
   "id": "06af0fe5",
   "metadata": {},
   "outputs": [
    {
     "data": {
      "text/html": [
       "<div>\n",
       "<style scoped>\n",
       "    .dataframe tbody tr th:only-of-type {\n",
       "        vertical-align: middle;\n",
       "    }\n",
       "\n",
       "    .dataframe tbody tr th {\n",
       "        vertical-align: top;\n",
       "    }\n",
       "\n",
       "    .dataframe thead th {\n",
       "        text-align: right;\n",
       "    }\n",
       "</style>\n",
       "<table border=\"1\" class=\"dataframe\">\n",
       "  <thead>\n",
       "    <tr style=\"text-align: right;\">\n",
       "      <th></th>\n",
       "      <th>title</th>\n",
       "      <th>link</th>\n",
       "      <th>image</th>\n",
       "      <th>summary</th>\n",
       "      <th>authors</th>\n",
       "      <th>date</th>\n",
       "      <th>access</th>\n",
       "    </tr>\n",
       "  </thead>\n",
       "  <tbody>\n",
       "    <tr>\n",
       "      <th>0</th>\n",
       "      <td>Inverted perovskite solar cells using dimethyl...</td>\n",
       "      <td>https://www.nature.com//articles/s41586-023-06...</td>\n",
       "      <td>NaN</td>\n",
       "      <td>NaN</td>\n",
       "      <td>Qin TanZhaoning LiZhubing He</td>\n",
       "      <td>24 May 2023</td>\n",
       "      <td>Close Access</td>\n",
       "    </tr>\n",
       "    <tr>\n",
       "      <th>1</th>\n",
       "      <td>Tree islands enhance biodiversity and function...</td>\n",
       "      <td>https://www.nature.com//articles/s41586-023-06...</td>\n",
       "      <td>//media.springernature.com/w290h158/springer-s...</td>\n",
       "      <td>A large-scale, five-year study in Indonesia fi...</td>\n",
       "      <td>Delphine Clara ZempNathaly Guerrero-RamirezHol...</td>\n",
       "      <td>24 May 2023</td>\n",
       "      <td>Open Access</td>\n",
       "    </tr>\n",
       "    <tr>\n",
       "      <th>2</th>\n",
       "      <td>Ångström-resolution fluorescence microscopy</td>\n",
       "      <td>https://www.nature.com//articles/s41586-023-05...</td>\n",
       "      <td>//media.springernature.com/w290h158/springer-s...</td>\n",
       "      <td>The authors introduce a single-molecule DNA-ba...</td>\n",
       "      <td>Susanne C. M. ReinhardtLuciano A. MasulloRalf ...</td>\n",
       "      <td>24 May 2023</td>\n",
       "      <td>Open Access</td>\n",
       "    </tr>\n",
       "    <tr>\n",
       "      <th>3</th>\n",
       "      <td>Density-wave ordering in a unitary Fermi gas w...</td>\n",
       "      <td>https://www.nature.com//articles/s41586-023-06...</td>\n",
       "      <td>//media.springernature.com/w290h158/springer-s...</td>\n",
       "      <td>An experiment with atoms and photons provides ...</td>\n",
       "      <td>Victor HelsonTimo ZwettlerJean-Philippe Brantut</td>\n",
       "      <td>24 May 2023</td>\n",
       "      <td>Open Access</td>\n",
       "    </tr>\n",
       "    <tr>\n",
       "      <th>4</th>\n",
       "      <td>A median fin derived from the lateral plate me...</td>\n",
       "      <td>https://www.nature.com//articles/s41586-023-06...</td>\n",
       "      <td>//media.springernature.com/w290h158/springer-s...</td>\n",
       "      <td>We identify that the larval zebrafish unpaired...</td>\n",
       "      <td>Keh-Weei TzungRobert L. LalondeTom J. Carney</td>\n",
       "      <td>24 May 2023</td>\n",
       "      <td>Open Access</td>\n",
       "    </tr>\n",
       "  </tbody>\n",
       "</table>\n",
       "</div>"
      ],
      "text/plain": [
       "                                               title  \\\n",
       "0  Inverted perovskite solar cells using dimethyl...   \n",
       "1  Tree islands enhance biodiversity and function...   \n",
       "2        Ångström-resolution fluorescence microscopy   \n",
       "3  Density-wave ordering in a unitary Fermi gas w...   \n",
       "4  A median fin derived from the lateral plate me...   \n",
       "\n",
       "                                                link  \\\n",
       "0  https://www.nature.com//articles/s41586-023-06...   \n",
       "1  https://www.nature.com//articles/s41586-023-06...   \n",
       "2  https://www.nature.com//articles/s41586-023-05...   \n",
       "3  https://www.nature.com//articles/s41586-023-06...   \n",
       "4  https://www.nature.com//articles/s41586-023-06...   \n",
       "\n",
       "                                               image  \\\n",
       "0                                                NaN   \n",
       "1  //media.springernature.com/w290h158/springer-s...   \n",
       "2  //media.springernature.com/w290h158/springer-s...   \n",
       "3  //media.springernature.com/w290h158/springer-s...   \n",
       "4  //media.springernature.com/w290h158/springer-s...   \n",
       "\n",
       "                                             summary  \\\n",
       "0                                                NaN   \n",
       "1  A large-scale, five-year study in Indonesia fi...   \n",
       "2  The authors introduce a single-molecule DNA-ba...   \n",
       "3  An experiment with atoms and photons provides ...   \n",
       "4  We identify that the larval zebrafish unpaired...   \n",
       "\n",
       "                                             authors         date  \\\n",
       "0                       Qin TanZhaoning LiZhubing He  24 May 2023   \n",
       "1  Delphine Clara ZempNathaly Guerrero-RamirezHol...  24 May 2023   \n",
       "2  Susanne C. M. ReinhardtLuciano A. MasulloRalf ...  24 May 2023   \n",
       "3    Victor HelsonTimo ZwettlerJean-Philippe Brantut  24 May 2023   \n",
       "4       Keh-Weei TzungRobert L. LalondeTom J. Carney  24 May 2023   \n",
       "\n",
       "         access  \n",
       "0  Close Access  \n",
       "1   Open Access  \n",
       "2   Open Access  \n",
       "3   Open Access  \n",
       "4   Open Access  "
      ]
     },
     "execution_count": 34,
     "metadata": {},
     "output_type": "execute_result"
    }
   ],
   "source": [
    "df.head()"
   ]
  },
  {
   "cell_type": "code",
   "execution_count": null,
   "id": "35f14515",
   "metadata": {},
   "outputs": [],
   "source": []
  }
 ],
 "metadata": {
  "kernelspec": {
   "display_name": "Python 3 (ipykernel)",
   "language": "python",
   "name": "python3"
  },
  "language_info": {
   "codemirror_mode": {
    "name": "ipython",
    "version": 3
   },
   "file_extension": ".py",
   "mimetype": "text/x-python",
   "name": "python",
   "nbconvert_exporter": "python",
   "pygments_lexer": "ipython3",
   "version": "3.9.13"
  }
 },
 "nbformat": 4,
 "nbformat_minor": 5
}
